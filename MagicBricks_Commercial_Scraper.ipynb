{
 "cells": [
  {
   "cell_type": "markdown",
   "id": "3836c5bb",
   "metadata": {},
   "source": [
    "# 🏘️ MagicBricks Commercial Property Scraper\n",
    "\n",
    "This Jupyter Notebook scrapes commercial property listings for multiple Indian cities from [MagicBricks](https://www.magicbricks.com/) and saves the data into `.xlsx` files."
   ]
  },
  {
   "cell_type": "code",
   "execution_count": null,
   "id": "8bae9dad",
   "metadata": {},
   "outputs": [],
   "source": [
    "import requests\n",
    "from bs4 import BeautifulSoup\n",
    "import pandas as pd\n",
    "import importlib.util\n",
    "import os\n",
    "import re"
   ]
  },
  {
   "cell_type": "markdown",
   "id": "19387192",
   "metadata": {},
   "source": [
    "## ✅ Check if `openpyxl` is available"
   ]
  },
  {
   "cell_type": "code",
   "execution_count": null,
   "id": "59291bcf",
   "metadata": {},
   "outputs": [],
   "source": [
    "def is_openpyxl_available():\n",
    "    return importlib.util.find_spec(\"openpyxl\") is not None\n",
    "\n",
    "print(\"openpyxl installed:\", is_openpyxl_available())"
   ]
  },
  {
   "cell_type": "markdown",
   "id": "cba23550",
   "metadata": {},
   "source": [
    "## 🧼 Sanitize City Name for Filename"
   ]
  },
  {
   "cell_type": "code",
   "execution_count": null,
   "id": "fed2643a",
   "metadata": {},
   "outputs": [],
   "source": [
    "def sanitize_filename(name):\n",
    "    return re.sub(r'[^a-zA-Z0-9_-]', '_', name)"
   ]
  },
  {
   "cell_type": "markdown",
   "id": "fa5e94e5",
   "metadata": {},
   "source": [
    "## 🌐 Define Headers for Web Requests"
   ]
  },
  {
   "cell_type": "code",
   "execution_count": null,
   "id": "1140456c",
   "metadata": {},
   "outputs": [],
   "source": [
    "headers = {\n",
    "    'User-Agent': 'Mozilla/5.0 (Windows NT 10.0; Win64; x64)'\n",
    "}"
   ]
  },
  {
   "cell_type": "markdown",
   "id": "b195e0fe",
   "metadata": {},
   "source": [
    "## 📥 Fetch Webpage Content"
   ]
  },
  {
   "cell_type": "code",
   "execution_count": null,
   "id": "bb0cdae8",
   "metadata": {},
   "outputs": [],
   "source": [
    "def fetch_webpage(url):\n",
    "    try:\n",
    "        response = requests.get(url, headers=headers)\n",
    "        response.raise_for_status()\n",
    "        return response.text\n",
    "    except Exception as e:\n",
    "        print(f\"Error fetching {url}: {e}\")\n",
    "        return None"
   ]
  },
  {
   "cell_type": "markdown",
   "id": "5c63af07",
   "metadata": {},
   "source": [
    "## 📄 Scrape One Page"
   ]
  },
  {
   "cell_type": "code",
   "execution_count": null,
   "id": "043b8566",
   "metadata": {},
   "outputs": [],
   "source": [
    "def scrape_page(url):\n",
    "    page = fetch_webpage(url)\n",
    "    if not page:\n",
    "        return []\n",
    "\n",
    "    soup = BeautifulSoup(page, \"html.parser\")\n",
    "    main_cards = soup.find_all('div', class_='mb-srp__card')\n",
    "    all_card_data = []\n",
    "\n",
    "    for card in main_cards:\n",
    "        card_data = {}\n",
    "        try:\n",
    "            card_data['Property Name'] = card.find('h2', class_='mb-srp__card--title').get_text(strip=True)\n",
    "        except:\n",
    "            card_data['Property Name'] = None\n",
    "\n",
    "        try:\n",
    "            summary_list = card.find_all('div', class_='mb-srp__card__summary__list--item')\n",
    "            for item in summary_list:\n",
    "                label = item.find('div', class_='mb-srp__card__summary--label')\n",
    "                value = item.find('div', class_='mb-srp__card__summary--value')\n",
    "                if label and value:\n",
    "                    key = item.get('data-summary', label.get_text(strip=True))\n",
    "                    card_data[key] = value.get_text(strip=True)\n",
    "        except:\n",
    "            pass\n",
    "\n",
    "        try:\n",
    "            price_block = card.find('div', class_='mb-srp__card__estimate')\n",
    "            card_data['Total Price'] = price_block.find('div', class_='mb-srp__card__price--amount').get_text(strip=True)\n",
    "            price_per_sqft = price_block.find('div', class_='mb-srp__card__price--size')\n",
    "            card_data['Price per Sqft'] = price_per_sqft.get_text(strip=True) if price_per_sqft else None\n",
    "        except:\n",
    "            card_data['Total Price'] = None\n",
    "            card_data['Price per Sqft'] = None\n",
    "\n",
    "        all_card_data.append(card_data)\n",
    "\n",
    "    return all_card_data"
   ]
  },
  {
   "cell_type": "markdown",
   "id": "cfbb2634",
   "metadata": {},
   "source": [
    "## 📚 Scrape Multiple Pages"
   ]
  },
  {
   "cell_type": "code",
   "execution_count": null,
   "id": "e6cd2c61",
   "metadata": {},
   "outputs": [],
   "source": [
    "def scrape_multiple_pages(base_url, num_pages):\n",
    "    all_results = []\n",
    "    for page in range(1, num_pages + 1):\n",
    "        full_url = f\"{base_url}&page={page}\"\n",
    "        print(f\"🔄 Scraping page {page}...\")\n",
    "        page_data = scrape_page(full_url)\n",
    "        if not page_data:\n",
    "            print(f\"❌ No data on page {page}. Stopping early.\")\n",
    "            break\n",
    "        all_results.extend(page_data)\n",
    "    return all_results"
   ]
  },
  {
   "cell_type": "markdown",
   "id": "4b8095d0",
   "metadata": {},
   "source": [
    "## 🚀 Run the Scraper"
   ]
  },
  {
   "cell_type": "code",
   "execution_count": null,
   "id": "49f9191b",
   "metadata": {},
   "outputs": [],
   "source": [
    "if is_openpyxl_available():\n",
    "    cities = [\n",
    "        \"New-Delhi\",\"Mumbai\",\"Kolkata\",\"Chennai\",\"Bengaluru\",\"Hyderabad\",\"Ahmedabad\",\"Pune\",\n",
    "        \"Lucknow\",\"Jaipur\",\"Kochi\",\"Nagpur\",\"Noida\",\"Kanpur\",\"Navi-Mumbai\",\n",
    "        \"Bhopal\",\"Indore\",\"Surat\",\"Patna\",\"Meerut\",\"Greater-Noida\"\n",
    "    ]\n",
    "\n",
    "    base_url_template = \"https://www.magicbricks.com/property-for-rent/commercial-real-estate?proptype=Commercial-Office-Space,Office-ITPark-SEZ,Commercial-Shop,Commercial-Showroom,Commercial-Land,Industrial-Land,Warehouse/-Godown,Industrial-Building,Industrial-Shed&cityName={}\"\n",
    "    num_pages = 2400\n",
    "    save_dir = \"Residential_Sell\"\n",
    "    os.makedirs(save_dir, exist_ok=True)\n",
    "\n",
    "    for city in cities:\n",
    "        print(f\"\\n🏙️ Now scraping city: {city}\")\n",
    "        formatted_city = city.replace(\" \", \"%20\")\n",
    "        city_url = base_url_template.format(formatted_city)\n",
    "\n",
    "        city_data = scrape_multiple_pages(city_url, num_pages)\n",
    "\n",
    "        if city_data:\n",
    "            df = pd.DataFrame(city_data)\n",
    "            filename = os.path.join(save_dir, f\"{sanitize_filename(city)}_Properties.xlsx\")\n",
    "            df.to_excel(filename, index=False)\n",
    "            print(f\"✅ Saved {len(df)} records for {city} → {filename}\")\n",
    "        else:\n",
    "            print(f\"⚠️ No data collected for {city}\")\n",
    "else:\n",
    "    print(\"❌ openpyxl is not installed. Please install it using: pip install openpyxl\")"
   ]
  }
 ],
 "metadata": {},
 "nbformat": 4,
 "nbformat_minor": 5
}
